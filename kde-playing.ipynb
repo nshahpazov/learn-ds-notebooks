{
 "cells": [
  {
   "cell_type": "markdown",
   "metadata": {},
   "source": [
    "# This is a simple exploration of how KDE works"
   ]
  },
  {
   "cell_type": "code",
   "execution_count": 89,
   "metadata": {},
   "outputs": [],
   "source": [
    "import numpy as np\n",
    "import matplotlib.pyplot as plt"
   ]
  },
  {
   "cell_type": "markdown",
   "metadata": {},
   "source": [
    "### We'll use a simple Gaussian Kernel"
   ]
  },
  {
   "cell_type": "code",
   "execution_count": 64,
   "metadata": {},
   "outputs": [],
   "source": [
    "def gaussian(x):\n",
    "    return np.exp(-x**2 / 2)/np.sqrt(2*np.pi)"
   ]
  },
  {
   "cell_type": "code",
   "execution_count": 92,
   "metadata": {},
   "outputs": [],
   "source": [
    "x_i = np.array([-4, -2, -1, 1, 2.2, -1, -1, -1, -2, 2, -2, 2, 0, 0, 0])"
   ]
  },
  {
   "cell_type": "markdown",
   "metadata": {},
   "source": [
    "### This is our kde method"
   ]
  },
  {
   "cell_type": "code",
   "execution_count": 84,
   "metadata": {},
   "outputs": [],
   "source": [
    "def f(x, h = 1):\n",
    "    n = x_i.shape[0]\n",
    "    return (1/n*h) * sum([gaussian((x-y)/h) for y in x_i])"
   ]
  },
  {
   "cell_type": "code",
   "execution_count": 90,
   "metadata": {},
   "outputs": [
    {
     "data": {
      "text/plain": [
       "array([0.01705374, 0.01900281, 0.02101529, 0.02307818, 0.02518161,\n",
       "       0.02732037, 0.02949549, 0.03171551, 0.03399739, 0.03636698,\n",
       "       0.03885889, 0.04151569, 0.04438654, 0.04752508, 0.05098688,\n",
       "       0.05482643, 0.05909389, 0.06383182, 0.06907203, 0.07483283,\n",
       "       0.08111686, 0.08790952, 0.09517829, 0.10287282, 0.11092591,\n",
       "       0.1192552 , 0.12776551, 0.13635174, 0.14490204, 0.15330118,\n",
       "       0.16143387, 0.16918801, 0.17645757, 0.18314518, 0.18916423,\n",
       "       0.19444065, 0.19891413, 0.20253902, 0.20528482, 0.20713642,\n",
       "       0.20809399, 0.20817267, 0.20740211, 0.20582571, 0.20349975,\n",
       "       0.2004923 , 0.19688189, 0.19275591, 0.18820877, 0.18333973,\n",
       "       0.17825046, 0.17304232, 0.16781339, 0.16265542, 0.15765074,\n",
       "       0.15286924, 0.14836572, 0.14417764, 0.14032354, 0.13680223,\n",
       "       0.13359287, 0.13065606, 0.12793594, 0.12536308, 0.12285838,\n",
       "       0.12033736, 0.11771497, 0.11491038, 0.1118516 , 0.10847956,\n",
       "       0.10475143, 0.10064299, 0.09614982, 0.0912874 , 0.08609001,\n",
       "       0.08060865, 0.074908  , 0.06906292, 0.06315439, 0.05726549,\n",
       "       0.05147748, 0.04586632, 0.04049967, 0.0354347 , 0.03071659,\n",
       "       0.02637779, 0.02243809, 0.01890521, 0.01577597, 0.01303779,\n",
       "       0.01067047, 0.00864799, 0.00694038, 0.00551534, 0.0043398 ,\n",
       "       0.00338115, 0.00260824, 0.00199209, 0.00150641, 0.00112783])"
      ]
     },
     "execution_count": 90,
     "metadata": {},
     "output_type": "execute_result"
    }
   ],
   "source": [
    "x_axis = np.linspace(-5, 5, 100)\n",
    "f(x_axis)"
   ]
  },
  {
   "cell_type": "code",
   "execution_count": 96,
   "metadata": {},
   "outputs": [
    {
     "data": {
      "text/plain": [
       "[<matplotlib.lines.Line2D at 0x11c6dc3d0>]"
      ]
     },
     "execution_count": 96,
     "metadata": {},
     "output_type": "execute_result"
    },
    {
     "data": {
      "image/png": "[encoded data removed]",
      "text/plain": [
       "<Figure size 432x288 with 1 Axes>"
      ]
     },
     "metadata": {
      "needs_background": "light"
     },
     "output_type": "display_data"
    }
   ],
   "source": [
    "plt.plot(x_axis, f(points), lw=2)"
   ]
  }
 ],
 "metadata": {
  "kernelspec": {
   "display_name": "Python 3",
   "language": "python",
   "name": "python3"
  },
  "language_info": {
   "codemirror_mode": {
    "name": "ipython",
    "version": 3
   },
   "file_extension": ".py",
   "mimetype": "text/x-python",
   "name": "python",
   "nbconvert_exporter": "python",
   "pygments_lexer": "ipython3",
   "version": "3.8.3"
  }
 },
 "nbformat": 4,
 "nbformat_minor": 4
}
