{
 "cells": [
  {
   "cell_type": "markdown",
   "metadata": {},
   "source": [
    "# Machine Learning Preprocessing Workshop"
   ]
  },
  {
   "cell_type": "markdown",
   "metadata": {},
   "source": [
    "### 1. Imports"
   ]
  },
  {
   "cell_type": "code",
   "execution_count": 19,
   "metadata": {},
   "outputs": [],
   "source": [
    "import pandas as pd\n",
    "import numpy as np\n",
    "\n",
    "from sklearn.preprocessing import MinMaxScaler, StandardScaler, FunctionTransformer\n",
    "from sklearn.preprocessing import PolynomialFeatures\n",
    "\n",
    "from sklearn.pipeline import Pipeline, FeatureUnion\n",
    "from sklearn.dummy import DummyRegressor\n",
    "\n",
    "from sklearn.utils import check_array\n",
    "from sklearn.base import TransformerMixin, BaseEstimator\n",
    "from sklearn.linear_model import LinearRegression\n",
    "from sklearn.preprocessing import OneHotEncoder\n",
    "\n",
    "from sklearn.model_selection import cross_val_score, KFold, LeaveOneOut, train_test_split\n",
    "\n",
    "from sklearn.metrics import mean_squared_error"
   ]
  },
  {
   "cell_type": "markdown",
   "metadata": {},
   "source": [
    "### 2. Load the data"
   ]
  },
  {
   "cell_type": "markdown",
   "metadata": {},
   "source": [
    "| variable     | type       | description                   |\n",
    "|--------------|------------|-------------------------------|\n",
    "| mpg          | continuous | miles per gallon              |\n",
    "| cylinders    | discrete   | number of cylinders of engine |\n",
    "| displacement | continuous | engine volume                 |\n",
    "| horsepower   | continuous | obvious                       |\n",
    "| weight       | continuous | weight in kilos               |\n",
    "| acceleration | continuous | obvious                       |\n",
    "| model_year   | discrete   | obvious                       |\n",
    "| origin       | discrete   | 1. US, 2. EU, 3. ASIA         |\n",
    "| name         | string     | unique name of the automobile |"
   ]
  },
  {
   "cell_type": "code",
   "execution_count": 3,
   "metadata": {},
   "outputs": [],
   "source": [
    "DATA_PATH = 'http://archive.ics.uci.edu/ml/machine-learning-databases/auto-mpg/auto-mpg.data'\n",
    "COL_NAMES = ['mpg', \n",
    "             'cylinders',\n",
    "             'displacement',\n",
    "             'horsepower',\n",
    "             'weight',\n",
    "             'acceleration',\n",
    "             'model_year',\n",
    "             'origin',\n",
    "             'name']\n",
    "\n",
    "auto_data = pd.read_csv(DATA_PATH, delim_whitespace=True, names=COL_NAMES, na_values='?')\n",
    "train_auto_data, test_auto_data = train_test_split(auto_data)\n",
    "\n",
    "auto_data = auto_data.dropna()"
   ]
  },
  {
   "cell_type": "markdown",
   "metadata": {},
   "source": [
    "### 3. Data Preparation / Feature Engineering"
   ]
  },
  {
   "cell_type": "markdown",
   "metadata": {},
   "source": [
    "How to transform our data for some algorithms since some algorithms work a lot better with standardized data, some don't work at all with missing data.\n",
    "\n",
    "Some algorithms may give a lot more weight to features which are not standardized or scaled.\n"
   ]
  },
  {
   "cell_type": "markdown",
   "metadata": {},
   "source": [
    "#### Simple example of standardization with sklearn"
   ]
  },
  {
   "cell_type": "code",
   "execution_count": 4,
   "metadata": {},
   "outputs": [
    {
     "data": {
      "text/plain": [
       "array([[ 0.21413855, -0.24581202],\n",
       "       [ 2.53598759, -0.40280533],\n",
       "       [-0.20478111, -1.66507591],\n",
       "       ...,\n",
       "       [ 0.0131445 ,  0.84287472],\n",
       "       [ 0.12512599, -0.62196627],\n",
       "       [-1.23560116,  1.67804174]])"
      ]
     },
     "execution_count": 4,
     "metadata": {},
     "output_type": "execute_result"
    }
   ],
   "source": [
    "# Basic feature engineering with sklearn example\n",
    "skscaler = StandardScaler()\n",
    "x1 = (np.random.randn(1000)) * np.sqrt(10) + 43\n",
    "x2 = (np.random.randn(1000)) * np.sqrt(13) - 10\n",
    "d = pd.DataFrame({'x1': x1, 'x2': x2}) # create an example dataframe\n",
    "\n",
    "skscaler.fit(d)\n",
    "d_standardized = skscaler.transform(d)\n",
    "# d_standardized.mean() # or std\n",
    "\n",
    "# another (shorter) way is with fit_transform\n",
    "skscaler.fit_transform(d)"
   ]
  },
  {
   "cell_type": "markdown",
   "metadata": {},
   "source": [
    "#### Another example with polynomial features"
   ]
  },
  {
   "cell_type": "code",
   "execution_count": 5,
   "metadata": {},
   "outputs": [],
   "source": [
    "# Another example with poly transform\n",
    "poly = PolynomialFeatures(include_bias=False)\n",
    "\n",
    "poly.fit_transform(d);\n",
    "# result feature matrix would be [1, a, b, a^2, ab, b^2]"
   ]
  },
  {
   "cell_type": "markdown",
   "metadata": {},
   "source": [
    "#### Examples of a custom transformers"
   ]
  },
  {
   "cell_type": "code",
   "execution_count": 6,
   "metadata": {},
   "outputs": [],
   "source": [
    "# use custom function\n",
    "function_transformer = FunctionTransformer(func=np.exp, inverse_func=np.log)\n",
    "transformed = function_transformer.fit_transform(d)\n",
    "function_transformer.inverse_transform(transformed); # this will get it back to the original"
   ]
  },
  {
   "cell_type": "code",
   "execution_count": 7,
   "metadata": {},
   "outputs": [],
   "source": [
    "def checkNA(method):\n",
    "    def wrapper(self, X):\n",
    "        if np.isnan(X).any():\n",
    "            raise Exception('There are missing values in the data')\n",
    "        else:\n",
    "            method(self, X)\n",
    "    return wrapper\n",
    "\n",
    "class CustomStandardScaler(TransformerMixin, BaseEstimator):\n",
    "\n",
    "    @checkNA\n",
    "    def fit(self, X, y=None):\n",
    "        X = self.validate(X, estimator=self)\n",
    "        self.means = np.mean(X, axis=0)\n",
    "        self.vars = np.var(X, axis=0)\n",
    "        self.scale = np.sqrt(self.vars)\n",
    "        \n",
    "        return self\n",
    "    \n",
    "    def transform(self, X):\n",
    "        X = self.validate_data(X, estimator=self)\n",
    "        shifted_X = X - self.means\n",
    "        scaled_and_shifted_X = X / self.scale\n",
    "        return scaled_and_shifted_X\n",
    "\n",
    "scaler = CustomStandardScaler()"
   ]
  },
  {
   "cell_type": "code",
   "execution_count": 68,
   "metadata": {},
   "outputs": [],
   "source": [
    "class CustomTransformer():\n",
    "    def fit(X, y=None):\n",
    "        pass\n",
    "\n",
    "    def transform(X):\n",
    "        pass"
   ]
  },
  {
   "cell_type": "markdown",
   "metadata": {},
   "source": [
    "### 4. Pipeline example"
   ]
  },
  {
   "cell_type": "code",
   "execution_count": 8,
   "metadata": {},
   "outputs": [],
   "source": [
    "pipe = Pipeline([\n",
    "    ('polynomization', PolynomialFeatures(include_bias=False)),\n",
    "    ('scaler', StandardScaler()),\n",
    "    ('model', LinearRegression())\n",
    "])\n",
    "\n",
    "pipe.fit(train_auto_data[['displacement', 'weight']], train_auto_data['mpg'])\n",
    "\n",
    "# you can pass different X data here for the test data\n",
    "predicted = pipe.predict(test_auto_data[['displacement', 'weight']]) "
   ]
  },
  {
   "cell_type": "markdown",
   "metadata": {},
   "source": [
    "### One Hot Encoder Example"
   ]
  },
  {
   "cell_type": "code",
   "execution_count": 9,
   "metadata": {},
   "outputs": [],
   "source": [
    "one_hot_encoder = OneHotEncoder(sparse=False, handle_unknown='ignore')\n",
    "one_hot_encoder.fit_transform(train_auto_data[['origin']]);"
   ]
  },
  {
   "cell_type": "markdown",
   "metadata": {},
   "source": [
    "### Feature union use case example"
   ]
  },
  {
   "cell_type": "markdown",
   "metadata": {},
   "source": [
    "![alt text](./feature-union.png)"
   ]
  },
  {
   "cell_type": "code",
   "execution_count": 10,
   "metadata": {},
   "outputs": [],
   "source": [
    "baby_pipe = FeatureUnion([\n",
    "    ('numerical',\n",
    "    Pipeline([\n",
    "        ('select_numerical', FunctionTransformer(func = lambda X: X.loc[:, ['displacement', 'weight']])),\n",
    "       ('poly', PolynomialFeatures(include_bias=False)),\n",
    "       ('scaler', StandardScaler())\n",
    "    ])),\n",
    "    ('categorical', \n",
    "    Pipeline([\n",
    "        ('pass_categorical', FunctionTransformer(func = lambda X: X.loc[:, ['cylinders', 'origin', 'model_year']])),\n",
    "        ('onehot', OneHotEncoder(sparse=False, handle_unknown='ignore'))\n",
    "    ]))\n",
    "])\n",
    "\n",
    "# baby_pipe.fit_transform(auto_data);\n",
    "\n",
    "super_pipe = Pipeline([\n",
    "    ('baby_pipe', baby_pipe),\n",
    "    ('model', LinearRegression()) # here we can just change the model we are using with another one\n",
    "])\n",
    "super_pipe.fit(train_auto_data, train_auto_data['mpg'])\n",
    "super_pipe.predict(test_auto_data); # or pass some test data and compare the differences"
   ]
  },
  {
   "cell_type": "markdown",
   "metadata": {},
   "source": [
    "### Leave one out cross validation example"
   ]
  },
  {
   "cell_type": "code",
   "execution_count": 46,
   "metadata": {},
   "outputs": [
    {
     "name": "stdout",
     "output_type": "stream",
     "text": [
      "Accuracy: 7.606\n"
     ]
    }
   ],
   "source": [
    "# The next code is terrible, just testing some things\n",
    "loo = LeaveOneOut()\n",
    "y_true, y_pred = list(), list()\n",
    "for train_ix, test_ix in loo.split(auto_data):\n",
    "#     print(auto_data.iloc[train_ix])\n",
    "    X_train, X_test = auto_data.iloc[train_ix], auto_data.iloc[test_ix, :]\n",
    "    y_train, y_test = auto_data.iloc[train_ix][['mpg']], auto_data.iloc[test_ix][['mpg']]\n",
    "    # fit model\n",
    "    super_pipe.fit(X_train, y_train)\n",
    "    # evaluate model\n",
    "    yhat = super_pipe.predict(X_test)\n",
    "    # store\n",
    "    y_true.append(y_test.iat[0, 0])\n",
    "    y_pred.append(yhat[0][0])\n",
    "# calculate accuracy\n",
    "accuracy_score = mean_squared_error(y_true, y_pred)\n",
    "print('Accuracy: %.3f' % accuracy_score)\n",
    "\n",
    "# loocv has a shortcut which is probably used in the next cell"
   ]
  },
  {
   "cell_type": "code",
   "execution_count": 24,
   "metadata": {},
   "outputs": [
    {
     "data": {
      "text/plain": [
       "array([ 0.52961134,  0.57544805,  0.33112653,  0.44495076,  0.43675032,\n",
       "        0.74897269,  0.72410644,  0.59808258, -0.45954765, -0.0718335 ])"
      ]
     },
     "execution_count": 24,
     "metadata": {},
     "output_type": "execute_result"
    }
   ],
   "source": [
    "kfold = KFold(n_splits=10)\n",
    "model_kfold = LinearRegression()\n",
    "poly = PolynomialFeatures(include_bias=False, degree=2)\n",
    "\n",
    "poly_hp = poly.fit_transform(auto_data[['horsepower']])\n",
    "\n",
    "#poly_hp.shape\n",
    "results_kfold = cross_val_score(model_kfold, poly_hp, auto_data[['mpg']], cv=kfold);\n",
    "results_kfold"
   ]
  },
  {
   "cell_type": "code",
   "execution_count": null,
   "metadata": {},
   "outputs": [],
   "source": []
  }
 ],
 "metadata": {
  "kernelspec": {
   "display_name": "Python 3",
   "language": "python",
   "name": "python3"
  },
  "language_info": {
   "codemirror_mode": {
    "name": "ipython",
    "version": 3
   },
   "file_extension": ".py",
   "mimetype": "text/x-python",
   "name": "python",
   "nbconvert_exporter": "python",
   "pygments_lexer": "ipython3",
   "version": "3.8.3"
  }
 },
 "nbformat": 4,
 "nbformat_minor": 4
}
